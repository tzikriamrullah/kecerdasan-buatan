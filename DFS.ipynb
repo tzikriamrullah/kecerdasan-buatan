{
  "nbformat": 4,
  "nbformat_minor": 0,
  "metadata": {
    "colab": {
      "provenance": [],
      "authorship_tag": "ABX9TyOifBfixHlaFxm4eTJpJUy8",
      "include_colab_link": true
    },
    "kernelspec": {
      "name": "python3",
      "display_name": "Python 3"
    },
    "language_info": {
      "name": "python"
    }
  },
  "cells": [
    {
      "cell_type": "markdown",
      "metadata": {
        "id": "view-in-github",
        "colab_type": "text"
      },
      "source": [
        "<a href=\"https://colab.research.google.com/github/tzikriamrullah/kecerdasan-buatan/blob/main/DFS.ipynb\" target=\"_parent\"><img src=\"https://colab.research.google.com/assets/colab-badge.svg\" alt=\"Open In Colab\"/></a>"
      ]
    },
    {
      "cell_type": "code",
      "execution_count": 67,
      "metadata": {
        "id": "9OUXmibeMBef",
        "colab": {
          "base_uri": "https://localhost:8080/"
        },
        "outputId": "beac4f8c-24e3-4b23-c365-2e8f14910fc9"
      },
      "outputs": [
        {
          "output_type": "stream",
          "name": "stdout",
          "text": [
            "<=====DFS=====>\n",
            "Daftar kota:  A, B, C, D, E, F, G, H, I, J, K, L\n",
            "kota tujuan = ['L']\n",
            "Jalur = ['K', 'L']\n",
            "Jalur = ['I', 'K', 'L']\n",
            "Jalur = ['C', 'I', 'K', 'L']\n",
            "Jalur dilewati dari C ke L: C -> I -> K -> L\n"
          ]
        }
      ],
      "source": [
        "peta_jateng = {\n",
        "    \"A\": [\"B\"],\n",
        "    \"B\": [\"A\", \"C\"],\n",
        "    \"C\": [\"B\", \"I\", \"H\", \"D\"],\n",
        "    \"D\": [\"C\", \"H\", \"E\", \"F\"],\n",
        "    \"E\": [\"F\"],\n",
        "    \"F\": [\"G\", \"H\", \"D\"],\n",
        "    \"G\": [\"H\", \"D\", \"F\"],\n",
        "    \"H\": [\"D\", \"G\", \"L\", \"C\"],\n",
        "    \"I\": [\"C\", \"K\", \"J\"],\n",
        "    \"J\": [\"I\"],\n",
        "    \"K\": [\"L\", \"I\"],\n",
        "    \"L\": [\"K\", \"H\"],\n",
        "}\n",
        "\n",
        "def kota(rute):\n",
        "    return \", \".join(rute.keys())\n",
        "\n",
        "def dfs(rute, kota_asal, kota_tujuan, visited=None):\n",
        "    if visited is None:\n",
        "        visited = set()\n",
        "    visited.add(kota_asal)\n",
        "    if kota_asal == kota_tujuan:\n",
        "        print(\"kota tujuan =\", [kota_tujuan])\n",
        "        return [kota_tujuan]\n",
        "    for tetangga in rute[kota_asal]:\n",
        "        if tetangga not in visited:\n",
        "            jalur = dfs(rute, tetangga, kota_tujuan, visited)\n",
        "            if jalur:\n",
        "                print(\"Jalur =\", [kota_asal] + jalur)\n",
        "                return [kota_asal] + jalur\n",
        "\n",
        "def dfs_kota():\n",
        "    print(\"<=====DFS=====>\")\n",
        "    print(\"Daftar kota: \", kota(peta_jateng))\n",
        "\n",
        "def main():\n",
        "    dfs_kota()\n",
        "    print(\"Jalur dilewati dari C ke L:\", \" -> \".join(dfs(peta_jateng, \"C\", \"L\")))\n",
        "\n",
        "if __name__ == \"__main__\": main()"
      ]
    }
  ]
}